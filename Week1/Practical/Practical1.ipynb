{
 "cells": [
  {
   "cell_type": "code",
   "execution_count": 48,
   "metadata": {
    "scrolled": true
   },
   "outputs": [
    {
     "name": "stdout",
     "output_type": "stream",
     "text": [
      "course: Intro to Python\n",
      "student: Areg Miqayelyan\n",
      "nickname: MAreg\n",
      "grade: 30\n",
      "pythonExpert: False\n"
     ]
    }
   ],
   "source": [
    "#Problem 1 (Variables) done\n",
    "#Problem 2 (Variables) \n",
    "\n",
    "course = \"Intro to Python\"; \n",
    "student = \"Areg Miqayelyan\"; \n",
    "nickname = \"MAreg\"; \n",
    "grade = 30; \n",
    "pythonExpert = False; \n",
    "\n",
    "print(\"course:\", course); \n",
    "print(\"student:\", student); \n",
    "print(\"nickname:\", nickname); \n",
    "print(\"grade:\", grade); \n",
    "print(\"pythonExpert:\", pythonExpert);"
   ]
  },
  {
   "cell_type": "code",
   "execution_count": 27,
   "metadata": {},
   "outputs": [
    {
     "name": "stdout",
     "output_type": "stream",
     "text": [
      "5\n"
     ]
    }
   ],
   "source": [
    "#Problem 3 (Variables)  done\n",
    "#Problem 4 (Variables)\n",
    "AB = 3\n",
    "AC = 4\n",
    "BC = int((AB**2 + AC**2)**0.5)\n",
    "print(BC)\n",
    "\n"
   ]
  },
  {
   "cell_type": "code",
   "execution_count": null,
   "metadata": {},
   "outputs": [],
   "source": [
    "#Problem 5 (Variables)  done"
   ]
  },
  {
   "cell_type": "code",
   "execution_count": null,
   "metadata": {},
   "outputs": [],
   "source": [
    "#Problem 6 (Variables)  done"
   ]
  }
 ],
 "metadata": {
  "kernelspec": {
   "display_name": "Python 3",
   "language": "python",
   "name": "python3"
  },
  "language_info": {
   "codemirror_mode": {
    "name": "ipython",
    "version": 3
   },
   "file_extension": ".py",
   "mimetype": "text/x-python",
   "name": "python",
   "nbconvert_exporter": "python",
   "pygments_lexer": "ipython3",
   "version": "3.7.4"
  }
 },
 "nbformat": 4,
 "nbformat_minor": 2
}
