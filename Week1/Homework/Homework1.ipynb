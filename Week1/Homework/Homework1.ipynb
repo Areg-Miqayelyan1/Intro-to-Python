{
 "cells": [
  {
   "cell_type": "code",
   "execution_count": 30,
   "metadata": {},
   "outputs": [
    {
     "name": "stdout",
     "output_type": "stream",
     "text": [
      "False\n",
      "True\n",
      "True\n",
      "False\n",
      "<class 'str'>\n",
      "<class 'int'>\n",
      "<class 'list'>\n",
      "<class 'int'>\n",
      "<class 'int'>\n",
      "<class 'str'>\n",
      "<class 'int'>\n",
      "<class 'str'>\n",
      "<class 'float'>\n",
      "Flour - 175g\n",
      "Butter - 175g\n",
      "Sugar - 100g\n",
      "Eggs - 2\n",
      "Cocoa powder - 1ts\n",
      "Baking powder - 0.5g\n"
     ]
    }
   ],
   "source": [
    "#Problem 1 (Variables)\n",
    "project = \"cake\"\n",
    "difficulty = 1\n",
    "ingredients = [\"flour\", \"butter\", \"sugar\", \"eggs\", \"cocoa powder\", \"baking powder\"]\n",
    "print(\"apples\" in ingredients)\n",
    "print(\"butter\" in ingredients)\n",
    "print(\"eggs\" in ingredients or \"margarine\" in ingredients)\n",
    "print(\"eggs\" in ingredients and \"margarine\" in ingredients)\n",
    "\n",
    "flour = 175\n",
    "butter = 175\n",
    "sugar = \"100g\"\n",
    "eggs = 2\n",
    "cocoa_powder = \"1ts\"\n",
    "baking_powder = 0.5\n",
    "\n",
    "print(type(project))\n",
    "print(type(difficulty))\n",
    "print(type(ingredients))\n",
    "print(type(flour))\n",
    "print(type(butter))\n",
    "print(type(sugar))\n",
    "print(type(eggs))\n",
    "print(type(cocoa_powder))\n",
    "print(type(baking_powder))\n",
    "\n",
    "print(f\"Flour - {flour}g\")\n",
    "print(f\"Butter - {butter}g\")\n",
    "print(f\"Sugar - {sugar}\")\n",
    "print(f\"Eggs - {eggs}\")\n",
    "print(f\"Cocoa powder - {cocoa_powder}\")\n",
    "print(f\"Baking powder - {baking_powder}g\")"
   ]
  },
  {
   "cell_type": "code",
   "execution_count": 31,
   "metadata": {},
   "outputs": [],
   "source": [
    "#Problem 2 (Variables) done"
   ]
  },
  {
   "cell_type": "code",
   "execution_count": 4,
   "metadata": {},
   "outputs": [
    {
     "name": "stdout",
     "output_type": "stream",
     "text": [
      "1003.0\n",
      "852\n"
     ]
    }
   ],
   "source": [
    "#Problem 3 (Operators)\n",
    "a = 15\n",
    "b =8\n",
    "c = 2\n",
    "print(5 * a**2 - a*b + a%2 - a/5)\n",
    "print(b**3 + 3*a*b - 10*c)"
   ]
  },
  {
   "cell_type": "code",
   "execution_count": 9,
   "metadata": {},
   "outputs": [
    {
     "name": "stdout",
     "output_type": "stream",
     "text": [
      "Set a number: 0\n",
      "0 is even\n"
     ]
    }
   ],
   "source": [
    "#Problem 4 (Operators)\n",
    "num = int(input(\"Set a number: \"))\n",
    "if num%2 == 0:\n",
    "   print(f\"{num} is even\")\n",
    "else: \n",
    "   print(f\"{num} is odd\")\n"
   ]
  }
 ],
 "metadata": {
  "kernelspec": {
   "display_name": "Python 3",
   "language": "python",
   "name": "python3"
  },
  "language_info": {
   "codemirror_mode": {
    "name": "ipython",
    "version": 3
   },
   "file_extension": ".py",
   "mimetype": "text/x-python",
   "name": "python",
   "nbconvert_exporter": "python",
   "pygments_lexer": "ipython3",
   "version": "3.7.4"
  }
 },
 "nbformat": 4,
 "nbformat_minor": 2
}
